{
 "cells": [
  {
   "cell_type": "markdown",
   "id": "3535de15",
   "metadata": {},
   "source": [
    "## Band Name Generator\n",
    "Imagine you want to create a band but you can't decide the name of it. This program will generate a name with the city you grew up in and the name of your pet."
   ]
  },
  {
   "cell_type": "code",
   "execution_count": 1,
   "id": "36611d6e",
   "metadata": {},
   "outputs": [
    {
     "name": "stdout",
     "output_type": "stream",
     "text": [
      "Welcome to the Band Name Generator\n",
      "What's name of the city you grew up in?\n",
      "Barcelona\n",
      "What's your pet's name?\n",
      "Willy\n",
      "Your band name could be Barcelona Willy\n"
     ]
    }
   ],
   "source": [
    "print(\"Welcome to the Band Name Generator\")\n",
    "City=input(\"What's name of the city you grew up in?\\n\") #\\n is for line break\n",
    "Pet=input(\"What's your pet's name?\\n\")\n",
    "print(\"Your band name could be \"+City+\" \"+Pet)"
   ]
  },
  {
   "cell_type": "code",
   "execution_count": null,
   "id": "2b8ab9f1",
   "metadata": {},
   "outputs": [],
   "source": []
  }
 ],
 "metadata": {
  "kernelspec": {
   "display_name": "Python 3 (ipykernel)",
   "language": "python",
   "name": "python3"
  },
  "language_info": {
   "codemirror_mode": {
    "name": "ipython",
    "version": 3
   },
   "file_extension": ".py",
   "mimetype": "text/x-python",
   "name": "python",
   "nbconvert_exporter": "python",
   "pygments_lexer": "ipython3",
   "version": "3.9.13"
  }
 },
 "nbformat": 4,
 "nbformat_minor": 5
}
