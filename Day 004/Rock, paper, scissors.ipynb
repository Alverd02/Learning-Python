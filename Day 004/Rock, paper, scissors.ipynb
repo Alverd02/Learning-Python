{
 "cells": [
  {
   "cell_type": "markdown",
   "id": "bc212f51",
   "metadata": {},
   "source": [
    "## Rock, paper, scissors\n",
    "In case you want to play rock, paper, scissors but you are alone af here you have a program where you can play against the computer."
   ]
  },
  {
   "cell_type": "code",
   "execution_count": 15,
   "id": "9efb66ce",
   "metadata": {},
   "outputs": [
    {
     "name": "stdout",
     "output_type": "stream",
     "text": [
      "What are you picking? Rock, paper or scissors (type 0, 1 or 2 respectively) ----> 1\n",
      "The machine picked:\n",
      "\n",
      "\n",
      "    _______\n",
      "---'   ____)\n",
      "      (_____)\n",
      "      (_____)\n",
      "      (____)\n",
      "---.__(___)\n",
      "\n",
      "You picked:\n",
      "\n",
      "\n",
      "     _______\n",
      "---'    ____)____\n",
      "           ______)\n",
      "          _______)\n",
      "         _______)\n",
      "---.__________)\n",
      "\n",
      "You win\n"
     ]
    }
   ],
   "source": [
    "import random\n",
    "player_choice=int(input(\"What are you picking? Rock, paper or scissors (type 0, 1 or 2 respectively) ----> \"))\n",
    "\n",
    "while player_choice<0 or player_choice>2:           #A while loop so in case someone gives a invalid entry repeatedly\n",
    "        print(\"You put an invalid entry, try again\")       \n",
    "        player_choice=int(input(\"What are you picking? Rock, paper or scissors (type 0, 1 or 2 respectively) ----> \"))\n",
    "        \n",
    "    \n",
    "machine_choice=random.randint(0,2)    #Random choice of the machine\n",
    "rock=\"\"\"\n",
    "    _______\n",
    "---'   ____)\n",
    "      (_____)\n",
    "      (_____)\n",
    "      (____)\n",
    "---.__(___)\n",
    "\"\"\"\n",
    "paper=\"\"\"\n",
    "     _______\n",
    "---'    ____)____\n",
    "           ______)\n",
    "          _______)\n",
    "         _______)\n",
    "---.__________)\n",
    "\"\"\"\n",
    "scissors=\"\"\"\n",
    "    _______\n",
    "---'   ____)____\n",
    "          ______)\n",
    "       __________)\n",
    "      (____)\n",
    "---.__(___)\n",
    "\"\"\"\n",
    "choices=[rock,paper,scissors]\n",
    "\n",
    "draw=0                              #While loop so in case there are consecutives draws the game doesn't stop\n",
    "while draw==0:\n",
    "    \n",
    "    print(\"The machine picked:\\n\")\n",
    "    print(choices[machine_choice])\n",
    "    print(\"You picked:\\n\")\n",
    "    print(choices[player_choice])\n",
    "    \n",
    "    if machine_choice==player_choice:   #Draw \n",
    "        print(\"It's a draw you can continue\")\n",
    "        player_choice=int(input(\"What are you picking? Rock, paper or scissors (type 0, 1 or 2 respectively) ----> \"))\n",
    "        machine_choice=random.randint(0,2)\n",
    "    \"\"\"\n",
    "    The edges (rock and scissors) we put it manually but the cases next to each other can be automated \n",
    "    just comparing which is bigger, and the we change the value of the variable draw so the while loop stops.\n",
    "    \"\"\"\n",
    "    elif machine_choice==0 and player_choice==2:\n",
    "        print(\"You lose\")\n",
    "        draw+=1\n",
    "    elif machine_choice==0 and player_choice==2:   \n",
    "        print(\"You win\")\n",
    "        draw+=1\n",
    "    elif machine_choice<player_choice:\n",
    "        print(\"You win\")\n",
    "        draw+=1\n",
    "    elif machine_choice>player_choice:\n",
    "        print(\"You lose\")\n",
    "        draw+=1\n",
    "    \n",
    "    \n",
    "\n"
   ]
  },
  {
   "cell_type": "code",
   "execution_count": null,
   "id": "0886f752",
   "metadata": {},
   "outputs": [],
   "source": []
  }
 ],
 "metadata": {
  "kernelspec": {
   "display_name": "Python 3 (ipykernel)",
   "language": "python",
   "name": "python3"
  },
  "language_info": {
   "codemirror_mode": {
    "name": "ipython",
    "version": 3
   },
   "file_extension": ".py",
   "mimetype": "text/x-python",
   "name": "python",
   "nbconvert_exporter": "python",
   "pygments_lexer": "ipython3",
   "version": "3.9.13"
  }
 },
 "nbformat": 4,
 "nbformat_minor": 5
}
