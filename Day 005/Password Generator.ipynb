{
 "cells": [
  {
   "cell_type": "markdown",
   "id": "3963d11d",
   "metadata": {},
   "source": [
    "## Password Generator\n",
    "These days it's very important to have a strong password, also, it is suggested to have a different password on each web you are loged in, so, this program generates a random password every time it is runned. "
   ]
  },
  {
   "cell_type": "code",
   "execution_count": 12,
   "id": "efeabcf9",
   "metadata": {},
   "outputs": [
    {
     "name": "stdout",
     "output_type": "stream",
     "text": [
      "Welcome to the Password Generator!\n",
      "How many letters would you like in your password?\n",
      "4\n",
      "How many symbols would you like?\n",
      "2\n",
      "How many numbers would you like?\n",
      "2\n",
      "Here is your password:  &xW!77Ss\n"
     ]
    }
   ],
   "source": [
    "import random\n",
    "\n",
    "letters = ['a', 'b', 'c', 'd', 'e', 'f', 'g', 'h', 'i', 'j', 'k', 'l', 'm', 'n', 'o', 'p', 'q', 'r', 's', 't', 'u', 'v', 'w', 'x', 'y', 'z', 'A', 'B', 'C', 'D', 'E', 'F', 'G', 'H', 'I', 'J', 'K', 'L', 'M', 'N', 'O', 'P', 'Q', 'R', 'S', 'T', 'U', 'V', 'W', 'X', 'Y', 'Z']\n",
    "numbers = ['0', '1', '2', '3', '4', '5', '6', '7', '8', '9']\n",
    "symbols = ['!', '#', '$', '%', '&', '(', ')', '*', '+']\n",
    "\n",
    "print(\"Welcome to the Password Generator!\")\n",
    "\n",
    "how_many_letters=int(input(\"How many letters would you like in your password?\\n\"))\n",
    "how_many_symbols=int(input(\"How many symbols would you like?\\n\"))\n",
    "how_many_numbers=int(input(\"How many numbers would you like?\\n\"))\n",
    "\n",
    "password_list=[]\n",
    "\n",
    "\"\"\"\n",
    "We add to the password list the random characters that will compone the final password\n",
    "\"\"\"\n",
    "\n",
    "for i in range(1,how_many_letters+1):\n",
    "    password_list.append(letters[random.randint(0,len(letters)-1)])\n",
    "for j in range(1,how_many_numbers+1):\n",
    "    password_list.append(numbers[random.randint(0,len(numbers)-1)])\n",
    "for k in range(1,how_many_symbols+1):\n",
    "    password_list.append(symbols[random.randint(0,len(symbols)-1)])\n",
    "    \n",
    "random.shuffle(password_list)    #random.shuffle() returns the lits selected but with the elements shuffled\n",
    "\n",
    "print(f\"Here is your password: \",\"\".join(password_list)) #\"\".join() function joins each element of a list with the string selected \n"
   ]
  }
 ],
 "metadata": {
  "kernelspec": {
   "display_name": "Python 3 (ipykernel)",
   "language": "python",
   "name": "python3"
  },
  "language_info": {
   "codemirror_mode": {
    "name": "ipython",
    "version": 3
   },
   "file_extension": ".py",
   "mimetype": "text/x-python",
   "name": "python",
   "nbconvert_exporter": "python",
   "pygments_lexer": "ipython3",
   "version": "3.9.13"
  }
 },
 "nbformat": 4,
 "nbformat_minor": 5
}
