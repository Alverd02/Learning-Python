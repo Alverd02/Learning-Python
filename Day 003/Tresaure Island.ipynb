{
 "cells": [
  {
   "cell_type": "markdown",
   "id": "8ee22754",
   "metadata": {},
   "source": [
    "## Tresaure Island\n",
    "The objective is to find the tresaure chest deciding which path to follow."
   ]
  },
  {
   "cell_type": "code",
   "execution_count": 2,
   "id": "d6f078b9",
   "metadata": {},
   "outputs": [
    {
     "name": "stdout",
     "output_type": "stream",
     "text": [
      "Welcomee to the Tresure Island.\n",
      "Your mission is to find the tresaure.\n",
      "You're at a cross road. Where do you want to go? Type \"left\" or \"right\".\n",
      "left\n",
      "You come to a lake. There is an island in the middle of the lake. Type \"wait\" to wait for a boat. Type \"swim\" to swim across.\n",
      "swim\n",
      "The current is too heavy and you drown.\n"
     ]
    }
   ],
   "source": [
    "print(\"Welcomee to the Tresaure Island.\")\n",
    "print(\"Your mission is to find the tresaure.\")\n",
    "road=input(\"You're at a cross road. Where do you want to go? Type \\\"left\\\" or \\\"right\\\".\\n\")\n",
    "if road ==\"left\":\n",
    "    lake=input(\"You come to a lake. There is an island in the middle of the lake. Type \\\"wait\\\" to wait for a boat. Type \\\"swim\\\" to swim across.\\n\")\n",
    "    if lake==\"wait\":\n",
    "        house=input(\"There is a house with 3 doors. One \\\"red\\\", one \\\"yellow\\\" and one \\\"blue\\\". Which colour do you choose?\\n\")\n",
    "        if house==\"red\":\n",
    "            print(\"It's a room full of fire. Game over\")\n",
    "        elif house==\"yellow\":\n",
    "            print(\"There is a trap with a chainsaw and it chops you to death. Game over.\")\n",
    "        else:\n",
    "            print(\"You meet an the owner og the hose and he instanly shoots you with a shotgun. Game over.\")\n",
    "    else:\n",
    "        print(\"The current is too heavy and you drown.\")\n",
    "else:\n",
    "    village=input(\"You arrive at an abandoned village. Do you \\\"search\\\" in the abandoned houses or do you pass \\\"across\\\" the village.\")\n",
    "    if village==\"search\":\n",
    "        print(\"In the first house you go in there is a snake that rapidly kills you. Game over.\")\n",
    "    else:\n",
    "        print(\"You go across the village and go deep into the forest. Then you notice a small glitter at the end of the path, you run to it and finally got the tresaure. Game over\")\n",
    "#if statement calls if the condition is true \n",
    "#elif statement calls when the previous if are false. We can put different conditions and only one can be done.\n",
    "#else statement calls when nothing from above is true"
   ]
  },
  {
   "cell_type": "code",
   "execution_count": null,
   "id": "e8aed65b",
   "metadata": {},
   "outputs": [],
   "source": []
  }
 ],
 "metadata": {
  "kernelspec": {
   "display_name": "Python 3 (ipykernel)",
   "language": "python",
   "name": "python3"
  },
  "language_info": {
   "codemirror_mode": {
    "name": "ipython",
    "version": 3
   },
   "file_extension": ".py",
   "mimetype": "text/x-python",
   "name": "python",
   "nbconvert_exporter": "python",
   "pygments_lexer": "ipython3",
   "version": "3.9.13"
  }
 },
 "nbformat": 4,
 "nbformat_minor": 5
}
