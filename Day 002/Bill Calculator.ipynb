{
 "cells": [
  {
   "cell_type": "markdown",
   "id": "5dfc43e7",
   "metadata": {},
   "source": [
    "## Bill calculator\n",
    "We are having a lunch with friends or family and we decided to split the bill but we are bad at maths. This program gives you the final amount each person will pay based on the number of people, the initial bill and the percentage of tip."
   ]
  },
  {
   "cell_type": "code",
   "execution_count": 1,
   "id": "5e476fad",
   "metadata": {},
   "outputs": [
    {
     "name": "stdout",
     "output_type": "stream",
     "text": [
      "Welcome to the bill calculator.\n",
      "What was the total bill? €45\n",
      "How many people to split the bill? 3\n",
      "What percentage tip would you like to give? 10, 12, or 15? 12\n",
      "Each person should pay: €16.80\n"
     ]
    }
   ],
   "source": [
    "print(\"Welcome to the bill calculator.\")\n",
    "total_bill=float(input(\"What was the total bill? €\"))\n",
    "split=int(input(\"How many people to split the bill? \"))\n",
    "percentage=int(input(\"What percentage tip would you like to give? 10, 12, or 15? \"))\n",
    "bill_per_person=((percentage/100)*total_bill+total_bill)/split    #round ----> round the number to the digit you want.\n",
    "final_amount=\"{0:.2f}\".format(bill_per_person)                    #.format turns a int or float into a string with a specific format\n",
    "                                                                  #: introduces the format spec\n",
    "                                                                  #0 enables sign-aware zero-padding for numeric types\n",
    "                                                                  #.2 sets the precision to 2\n",
    "                                                                  #f displays the numbers as a fixed-point number\n",
    "print(f\"Each person should pay: €{final_amount}\")   #f-string allow us to put the varible without converting into string"
   ]
  },
  {
   "cell_type": "code",
   "execution_count": null,
   "id": "7c8403b1",
   "metadata": {},
   "outputs": [],
   "source": []
  }
 ],
 "metadata": {
  "kernelspec": {
   "display_name": "Python 3 (ipykernel)",
   "language": "python",
   "name": "python3"
  },
  "language_info": {
   "codemirror_mode": {
    "name": "ipython",
    "version": 3
   },
   "file_extension": ".py",
   "mimetype": "text/x-python",
   "name": "python",
   "nbconvert_exporter": "python",
   "pygments_lexer": "ipython3",
   "version": "3.9.13"
  }
 },
 "nbformat": 4,
 "nbformat_minor": 5
}
